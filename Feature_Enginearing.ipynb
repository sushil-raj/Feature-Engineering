{
  "nbformat": 4,
  "nbformat_minor": 0,
  "metadata": {
    "colab": {
      "provenance": []
    },
    "kernelspec": {
      "name": "python3",
      "display_name": "Python 3"
    },
    "language_info": {
      "name": "python"
    }
  },
  "cells": [
    {
      "cell_type": "markdown",
      "source": [
        "# Theory"
      ],
      "metadata": {
        "id": "x1KBjc38XYQR"
      }
    },
    {
      "cell_type": "markdown",
      "source": [
        "Ques 1. What is a parameter?\n",
        "\n",
        "Ans. A parameter is a model component that is learned from the data during training (like weights in linear regression). It defines how input features are combined to make predictions."
      ],
      "metadata": {
        "id": "WWM34ypfXaTh"
      }
    },
    {
      "cell_type": "markdown",
      "source": [
        "Ques 2.1. What is correlation?\n",
        "Ans. Correlation measures the strength and direction of a relationship between two variables. It ranges from -1 (strong negative) to +1 (strong positive).\n",
        "\n",
        "Ques 2.2 What does negative correlation mean?\n",
        "Ans Negative correlation means that when one variable increases, the other tends to decrease (e.g., speed vs. travel time)."
      ],
      "metadata": {
        "id": "6fkjdy6FXt-s"
      }
    },
    {
      "cell_type": "markdown",
      "source": [
        "Ques 3.Define Machine Learning. What are the main components in ML?\n",
        "Ans ML is a method where computers learn patterns from data to make decisions without being explicitly programmed.\n",
        "Main components: data, model, algorithm, loss function, optimizer, and evaluation metrics."
      ],
      "metadata": {
        "id": "CclT1xn8X2rd"
      }
    },
    {
      "cell_type": "markdown",
      "source": [
        "Ques 4.How does loss value help in determining model performance?\n",
        "Ans.Loss value shows how far the model's predictions are from actual values. Lower loss means better accuracy; high loss means poor performance."
      ],
      "metadata": {
        "id": "awI2BN6TYWs3"
      }
    },
    {
      "cell_type": "markdown",
      "source": [
        "Ques 5.What are continuous and categorical variables?\n",
        "Ans.Continuous: Numeric values with range (e.g., height, salary).\n",
        "\n",
        "Categorical: Values in categories (e.g., gender, color).\n",
        "\n"
      ],
      "metadata": {
        "id": "kMjJFdYiYje8"
      }
    },
    {
      "cell_type": "markdown",
      "source": [
        "Ques 6.How to handle categorical variables in ML?\n",
        "Ans.Common techniques include Label Encoding and One-Hot Encoding using tools like sklearn.preprocessing.\n",
        "\n"
      ],
      "metadata": {
        "id": "V5opABdhYuOW"
      }
    },
    {
      "cell_type": "markdown",
      "source": [
        "Ques 7.What is training and testing a dataset?\n",
        "Ans.Training set is used to train the model, and the testing set evaluates its performance on unseen data."
      ],
      "metadata": {
        "id": "NQHKBJmqZa_d"
      }
    },
    {
      "cell_type": "markdown",
      "source": [
        "Ques 8.What is sklearn.preprocessing?\n",
        "Ans.It’s a module in Scikit-learn that provides tools for scaling, encoding, normalizing, and transforming data before training."
      ],
      "metadata": {
        "id": "q4dRQSocZlqI"
      }
    },
    {
      "cell_type": "markdown",
      "source": [
        "Ques 9.What is a test set?\n",
        "Ans.A test set is a portion of the dataset used only to evaluate the final model performance. It simulates how the model performs on real-world unseen data."
      ],
      "metadata": {
        "id": "F1U3loHwZokC"
      }
    },
    {
      "cell_type": "markdown",
      "source": [
        "Ques 10.1.How to split data in Python?\n",
        "Ans.Using train_test_split() from sklearn.model_selection:\n",
        "\n",
        "from sklearn.model_selection import train_test_split\n",
        "X_train, X_test, y_train, y_test = train_test_split(X, y, test_size=0.2)\n",
        "\n",
        "\n",
        "Ques 10.2  How to approach an ML problem?\n",
        "Ans. Understand the problem → collect data → clean and explore data (EDA) → preprocess → model selection → training → evaluation → optimization.\n"
      ],
      "metadata": {
        "id": "mLluHKZEZvDV"
      }
    },
    {
      "cell_type": "markdown",
      "source": [
        "Ques 11.Why perform EDA before modeling?\n",
        "\n",
        "Ans.EDA (Exploratory Data Analysis) helps understand the data distribution, detect missing values, outliers, relationships, and guides better model selection and feature engineering."
      ],
      "metadata": {
        "id": "GPfIjQHVaOP0"
      }
    },
    {
      "cell_type": "markdown",
      "source": [
        "Ques 12."
      ],
      "metadata": {
        "id": "d6aJX6EQadll"
      }
    },
    {
      "cell_type": "markdown",
      "source": [
        "Ques 13.What is causation? Difference from correlation?\n",
        "Ans.Causation means one variable directly affects another.\n",
        "Example:\n",
        "\n",
        "Correlation: Ice cream sales ↑ and drowning cases ↑ (due to summer, not causation)\n",
        "\n",
        "Causation: Smoking causes lung damage.\n",
        "\n"
      ],
      "metadata": {
        "id": "dQdjwUdTazL-"
      }
    },
    {
      "cell_type": "markdown",
      "source": [
        "Ques 14.What is an Optimizer? Types and examples?\n",
        "Ans.Optimizers adjust model parameters to reduce loss.\n",
        "Types:\n",
        "\n",
        "SGD (Stochastic Gradient Descent): Basic, slower.\n",
        "\n",
        "Adam: Faster, adaptive learning rate.\n",
        "Example:\n",
        "\n",
        "python\n",
        "Copy\n",
        "Edit\n",
        "optimizer = torch.optim.Adam(model.parameters(), lr=0.01)"
      ],
      "metadata": {
        "id": "OyHHBE6Va4TX"
      }
    },
    {
      "cell_type": "markdown",
      "source": [
        "Ques 15.What is sklearn.linear_model?\n",
        "Ans.It’s a module in Scikit-learn that contains linear models like Linear Regression, Logistic Regression, etc., used for predictions and classifications.\n",
        "\n"
      ],
      "metadata": {
        "id": "UteDBLLgbG1z"
      }
    },
    {
      "cell_type": "markdown",
      "source": [
        "Ques 16.What does model.fit() do?\n",
        "It trains the model using input and output data.\n",
        "Arguments: X_train, y_train.\n",
        "\n"
      ],
      "metadata": {
        "id": "lHHccNfpbOrG"
      }
    },
    {
      "cell_type": "markdown",
      "source": [
        "Ques 17. What does model.predict() do?\n",
        "Ans.It makes predictions on new/unseen data using the trained model.\n",
        "Argument: X_test or any new input."
      ],
      "metadata": {
        "id": "a307URtMbaH0"
      }
    },
    {
      "cell_type": "markdown",
      "source": [
        "Ques 18.What is feature scaling? How does it help?\n",
        "Ans.Scaling brings features to the same range. It improves performance and speed of ML models (especially those using distance or gradient-based methods)."
      ],
      "metadata": {
        "id": "5M1bzYFWbhTp"
      }
    },
    {
      "cell_type": "markdown",
      "source": [
        "Ques 19.How to perform scaling in Python?\n",
        "\n",
        "from sklearn.preprocessing import StandardScaler\n",
        "scaler = StandardScaler()\n",
        "X_scaled = scaler.fit_transform(X)\n"
      ],
      "metadata": {
        "id": "7Oa2I-GucEJc"
      }
    },
    {
      "cell_type": "markdown",
      "source": [
        "Ques 20.What is data encoding?\n",
        "Ans.Converting categorical values (like \"Yes\", \"No\") into numeric form for ML models.\n",
        "Techniques: Label Encoding, One-Hot Encoding.\n",
        "\n"
      ],
      "metadata": {
        "id": "pflZyxo8cH0n"
      }
    }
  ]
}